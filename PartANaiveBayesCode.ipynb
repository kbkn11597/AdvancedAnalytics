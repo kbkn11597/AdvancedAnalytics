{
 "cells": [
  {
   "cell_type": "code",
   "execution_count": 29,
   "id": "b8d954a7",
   "metadata": {},
   "outputs": [
    {
     "name": "stdout",
     "output_type": "stream",
     "text": [
      "Populating the interactive namespace from numpy and matplotlib\n"
     ]
    },
    {
     "name": "stderr",
     "output_type": "stream",
     "text": [
      "/Users/komal/opt/anaconda3/lib/python3.9/site-packages/IPython/core/magics/pylab.py:159: UserWarning: pylab import has clobbered these variables: ['clf', 'uniform', 'test']\n",
      "`%matplotlib` prevents importing * from pylab and numpy\n",
      "  warn(\"pylab import has clobbered these variables: %s\"  % clobbered +\n"
     ]
    },
    {
     "data": {
      "text/html": [
       "<div>\n",
       "<style scoped>\n",
       "    .dataframe tbody tr th:only-of-type {\n",
       "        vertical-align: middle;\n",
       "    }\n",
       "\n",
       "    .dataframe tbody tr th {\n",
       "        vertical-align: top;\n",
       "    }\n",
       "\n",
       "    .dataframe thead th {\n",
       "        text-align: right;\n",
       "    }\n",
       "</style>\n",
       "<table border=\"1\" class=\"dataframe\">\n",
       "  <thead>\n",
       "    <tr style=\"text-align: right;\">\n",
       "      <th></th>\n",
       "      <th>label</th>\n",
       "      <th>platform</th>\n",
       "      <th>prior_purchase</th>\n",
       "      <th>premium</th>\n",
       "      <th>redeem_card</th>\n",
       "    </tr>\n",
       "  </thead>\n",
       "  <tbody>\n",
       "    <tr>\n",
       "      <th>0</th>\n",
       "      <td>0</td>\n",
       "      <td>1</td>\n",
       "      <td>3</td>\n",
       "      <td>2</td>\n",
       "      <td>2</td>\n",
       "    </tr>\n",
       "    <tr>\n",
       "      <th>1</th>\n",
       "      <td>0</td>\n",
       "      <td>2</td>\n",
       "      <td>3</td>\n",
       "      <td>2</td>\n",
       "      <td>2</td>\n",
       "    </tr>\n",
       "    <tr>\n",
       "      <th>2</th>\n",
       "      <td>0</td>\n",
       "      <td>3</td>\n",
       "      <td>1</td>\n",
       "      <td>2</td>\n",
       "      <td>2</td>\n",
       "    </tr>\n",
       "    <tr>\n",
       "      <th>3</th>\n",
       "      <td>0</td>\n",
       "      <td>1</td>\n",
       "      <td>3</td>\n",
       "      <td>2</td>\n",
       "      <td>2</td>\n",
       "    </tr>\n",
       "    <tr>\n",
       "      <th>4</th>\n",
       "      <td>0</td>\n",
       "      <td>2</td>\n",
       "      <td>1</td>\n",
       "      <td>2</td>\n",
       "      <td>2</td>\n",
       "    </tr>\n",
       "  </tbody>\n",
       "</table>\n",
       "</div>"
      ],
      "text/plain": [
       "   label  platform  prior_purchase  premium  redeem_card\n",
       "0      0         1               3        2            2\n",
       "1      0         2               3        2            2\n",
       "2      0         3               1        2            2\n",
       "3      0         1               3        2            2\n",
       "4      0         2               1        2            2"
      ]
     },
     "execution_count": 29,
     "metadata": {},
     "output_type": "execute_result"
    }
   ],
   "source": [
    "import IPython\n",
    "import matplotlib.pyplot as plt\n",
    "import numpy as np\n",
    "import pandas as pd\n",
    "from IPython.display import HTML\n",
    "\n",
    "%pylab inline\n",
    "# pip install git+git://github.com/mgelbart/plot-classifier.git\n",
    "#!pip install git+https://github.com/mgelbart/plot-classifier.git\n",
    "from plot_classifier import plot_classifier\n",
    "from sklearn.dummy import DummyClassifier\n",
    "from sklearn.feature_extraction.text import (\n",
    "    CountVectorizer,\n",
    "    TfidfTransformer,\n",
    "    TfidfVectorizer,\n",
    ")\n",
    "\n",
    "# train test split and cross validation\n",
    "from sklearn.model_selection import (\n",
    "    GridSearchCV,\n",
    "    cross_val_score,\n",
    "    cross_validate,\n",
    "    train_test_split,\n",
    ")\n",
    "\n",
    "from sklearn.pipeline import Pipeline, make_pipeline\n",
    "\n",
    "from sklearn.svm import SVC\n",
    "from sklearn.tree import DecisionTreeClassifier\n",
    "from sklearn.neighbors import KNeighborsClassifier\n",
    "\n",
    "%matplotlib inline\n",
    "from sklearn.naive_bayes import MultinomialNB, BernoulliNB, GaussianNB, CategoricalNB, ComplementNB\n",
    "\n",
    "from sklearn.metrics import confusion_matrix, accuracy_score, classification_report\n",
    "\n",
    "from sklearn.utils import resample\n",
    "from sklearn.model_selection import StratifiedKFold\n",
    "from sklearn.model_selection import RandomizedSearchCV\n",
    "from scipy.stats import uniform\n",
    "from sklearn.metrics import classification_report\n",
    "\n",
    "df=pd.read_csv(\"/Users/komal/Library/CloudStorage/OneDrive-UniversityofSouthampton/Postgraduate/E-books/BAMS/Advanced Analytics/purchase_data_regular.csv\")\n",
    "df.head()"
   ]
  },
  {
   "cell_type": "code",
   "execution_count": 3,
   "id": "a458fd46",
   "metadata": {},
   "outputs": [
    {
     "name": "stdout",
     "output_type": "stream",
     "text": [
      "GaussianNB() [0.56835483 0.43164517]\n",
      "CategoricalNB() [0.53785562 0.46214438]\n",
      "BernoulliNB() [0.49398807 0.50601193]\n",
      "ComplementNB() [0.5 0.5]\n",
      "MultinomialNB() [0.494 0.506]\n"
     ]
    }
   ],
   "source": [
    "#Question 1: Use Naïve Bayes reasoning, what is the probability that a customer purchases, given it is an Android user?\n",
    "y=df['label']\n",
    "X=np.array(df['platform']).reshape(-1, 1)\n",
    "NB_model=[GaussianNB(),CategoricalNB(),BernoulliNB(),ComplementNB(),MultinomialNB()]\n",
    "for model in NB_model:\n",
    "    clf=model.fit(X,y)\n",
    "    x=np.array([1]).reshape(-1,1)\n",
    "    prob=clf.predict_proba(x)\n",
    "    print(model,prob[0])"
   ]
  },
  {
   "cell_type": "code",
   "execution_count": 4,
   "id": "8de23594",
   "metadata": {},
   "outputs": [
    {
     "name": "stdout",
     "output_type": "stream",
     "text": [
      "GaussianNB() [0.41693115 0.58306885]\n",
      "CategoricalNB() [0.43865814 0.56134186]\n",
      "BernoulliNB() [0.49397614 0.50602386]\n",
      "ComplementNB() [0.48760307 0.51239693]\n",
      "MultinomialNB() [0.48160854 0.51839146]\n"
     ]
    }
   ],
   "source": [
    "#Question 2: Use Naïve Bayes reasoning, what is the probability that a customer purchases, given it is an Android user and had a purchase in “between 6 and 12 months”?\n",
    "y=df['label']\n",
    "X=df[['platform','prior_purchase']]\n",
    "NB_model=[GaussianNB(),CategoricalNB(),BernoulliNB(),ComplementNB(),MultinomialNB()]\n",
    "for model in NB_model:\n",
    "    clf=model.fit(X,y)\n",
    "    x=X.loc[(X['platform']==1) & (X['prior_purchase']==3)]\n",
    "    prob=clf.predict_proba(x)\n",
    "    print(model,prob[0])"
   ]
  },
  {
   "cell_type": "code",
   "execution_count": 5,
   "id": "243f0eb7",
   "metadata": {},
   "outputs": [],
   "source": [
    "# y=df['label']\n",
    "# X=df.drop(columns=['label'])\n",
    "# X_train,X_test,y_train,y_test=train_test_split(X,y,random_state=32841137)\n",
    "# from sklearn.linear_model import LogisticRegression\n",
    "# gnb=LogisticRegression().fit(X_train,y_train)\n",
    "\n",
    "# x=X[X['platform']==1]\n",
    "# #print(x)\n",
    "# prob=gnb.predict_proba(x)\n",
    "# y_pred=gnb.predict(X_test)\n",
    "# print('LR1 prob:',gnb.predict_proba(x)[0])\n",
    "# print('LR1 classification report:', classification_report(y_test, y_pred))\n",
    "# print('LR1 accuracy:', accuracy_score(y_test, y_pred))\n",
    "\n",
    "\n",
    "# x=X[X['platform']==1]\n",
    "# #print(x)\n",
    "# prob=X.loc[(X['platform']==1) & (X['prior_purchase']==3)]\n",
    "# y_pred=gnb.predict(X_test)\n",
    "# print('LR2 prob:',gnb.predict_proba(x)[0])\n",
    "# print('LR2 classification report:', classification_report(y_test, y_pred))\n",
    "# print('LR2 accuracy:', accuracy_score(y_test, y_pred))\n"
   ]
  },
  {
   "cell_type": "code",
   "execution_count": 6,
   "id": "e996c2f1",
   "metadata": {},
   "outputs": [
    {
     "name": "stdout",
     "output_type": "stream",
     "text": [
      "0\n",
      "1\n",
      "2\n",
      "3\n",
      "4\n",
      "5\n",
      "6\n",
      "7\n",
      "8\n",
      "9\n"
     ]
    },
    {
     "data": {
      "text/plain": [
       "0.6411"
      ]
     },
     "execution_count": 6,
     "metadata": {},
     "output_type": "execute_result"
    }
   ],
   "source": [
    "#Question 3:\n",
    "#SVM\n",
    "y=df['label']\n",
    "X=df.drop(columns=['label'])\n",
    "distributions = dict(C=uniform(loc=0, scale=4))\n",
    "model=SVC(kernel='linear')\n",
    "acc_values_stratified=np.zeros(5)\n",
    "acc_values_tune=np.zeros(10)\n",
    "for itr in range(0,10):\n",
    "    print(itr)\n",
    "    skf=StratifiedKFold(n_splits=5,shuffle=True,random_state=itr)\n",
    "    for i,(train,test) in enumerate(skf.split(X,y)):\n",
    "        clf=RandomizedSearchCV(model,distributions,cv=5,random_state=0)\n",
    "        search=clf.fit(X.loc[train,:],y[train])\n",
    "        acc_values_stratified[i]=search.score(X.loc[test,:],y[test])\n",
    "    acc_values_tune[itr]=np.mean(acc_values_stratified)\n",
    "np.mean(acc_values_tune)"
   ]
  },
  {
   "cell_type": "code",
   "execution_count": 15,
   "id": "ba4a2bfc",
   "metadata": {},
   "outputs": [
    {
     "name": "stdout",
     "output_type": "stream",
     "text": [
      "0\n",
      "Fitting 5 folds for each of 100 candidates, totalling 500 fits\n",
      "Fitting 5 folds for each of 100 candidates, totalling 500 fits\n",
      "Fitting 5 folds for each of 100 candidates, totalling 500 fits\n",
      "Fitting 5 folds for each of 100 candidates, totalling 500 fits\n",
      "Fitting 5 folds for each of 100 candidates, totalling 500 fits\n",
      "1\n",
      "Fitting 5 folds for each of 100 candidates, totalling 500 fits\n",
      "Fitting 5 folds for each of 100 candidates, totalling 500 fits\n",
      "Fitting 5 folds for each of 100 candidates, totalling 500 fits\n",
      "Fitting 5 folds for each of 100 candidates, totalling 500 fits\n",
      "Fitting 5 folds for each of 100 candidates, totalling 500 fits\n",
      "2\n",
      "Fitting 5 folds for each of 100 candidates, totalling 500 fits\n",
      "Fitting 5 folds for each of 100 candidates, totalling 500 fits\n",
      "Fitting 5 folds for each of 100 candidates, totalling 500 fits\n",
      "Fitting 5 folds for each of 100 candidates, totalling 500 fits\n",
      "Fitting 5 folds for each of 100 candidates, totalling 500 fits\n",
      "3\n",
      "Fitting 5 folds for each of 100 candidates, totalling 500 fits\n",
      "Fitting 5 folds for each of 100 candidates, totalling 500 fits\n",
      "Fitting 5 folds for each of 100 candidates, totalling 500 fits\n",
      "Fitting 5 folds for each of 100 candidates, totalling 500 fits\n",
      "Fitting 5 folds for each of 100 candidates, totalling 500 fits\n",
      "4\n",
      "Fitting 5 folds for each of 100 candidates, totalling 500 fits\n",
      "Fitting 5 folds for each of 100 candidates, totalling 500 fits\n",
      "Fitting 5 folds for each of 100 candidates, totalling 500 fits\n",
      "Fitting 5 folds for each of 100 candidates, totalling 500 fits\n",
      "Fitting 5 folds for each of 100 candidates, totalling 500 fits\n",
      "5\n",
      "Fitting 5 folds for each of 100 candidates, totalling 500 fits\n",
      "Fitting 5 folds for each of 100 candidates, totalling 500 fits\n",
      "Fitting 5 folds for each of 100 candidates, totalling 500 fits\n",
      "Fitting 5 folds for each of 100 candidates, totalling 500 fits\n",
      "Fitting 5 folds for each of 100 candidates, totalling 500 fits\n",
      "6\n",
      "Fitting 5 folds for each of 100 candidates, totalling 500 fits\n",
      "Fitting 5 folds for each of 100 candidates, totalling 500 fits\n",
      "Fitting 5 folds for each of 100 candidates, totalling 500 fits\n",
      "Fitting 5 folds for each of 100 candidates, totalling 500 fits\n",
      "Fitting 5 folds for each of 100 candidates, totalling 500 fits\n",
      "7\n",
      "Fitting 5 folds for each of 100 candidates, totalling 500 fits\n",
      "Fitting 5 folds for each of 100 candidates, totalling 500 fits\n",
      "Fitting 5 folds for each of 100 candidates, totalling 500 fits\n",
      "Fitting 5 folds for each of 100 candidates, totalling 500 fits\n",
      "Fitting 5 folds for each of 100 candidates, totalling 500 fits\n",
      "8\n",
      "Fitting 5 folds for each of 100 candidates, totalling 500 fits\n",
      "Fitting 5 folds for each of 100 candidates, totalling 500 fits\n",
      "Fitting 5 folds for each of 100 candidates, totalling 500 fits\n",
      "Fitting 5 folds for each of 100 candidates, totalling 500 fits\n",
      "Fitting 5 folds for each of 100 candidates, totalling 500 fits\n",
      "9\n",
      "Fitting 5 folds for each of 100 candidates, totalling 500 fits\n",
      "Fitting 5 folds for each of 100 candidates, totalling 500 fits\n",
      "Fitting 5 folds for each of 100 candidates, totalling 500 fits\n",
      "Fitting 5 folds for each of 100 candidates, totalling 500 fits\n",
      "Fitting 5 folds for each of 100 candidates, totalling 500 fits\n"
     ]
    },
    {
     "data": {
      "text/plain": [
       "0.659"
      ]
     },
     "execution_count": 15,
     "metadata": {},
     "output_type": "execute_result"
    }
   ],
   "source": [
    "#GaussianNB\n",
    "y=df['label']\n",
    "X=df.drop(columns=['label'])\n",
    "nb_classifier = GaussianNB()\n",
    "for itr in range(0,10):\n",
    "    print(itr)\n",
    "    skf=StratifiedKFold(n_splits=5,shuffle=True,random_state=32841337)\n",
    "    params_NB = {'var_smoothing': np.logspace(0,-9, num=100)}\n",
    "    gs_NB = GridSearchCV(estimator=nb_classifier, \n",
    "                 param_grid=params_NB, \n",
    "                 cv=skf,   # use any cross validation technique \n",
    "                 verbose=1, \n",
    "                 scoring='accuracy') \n",
    "    for i,(train,test) in enumerate(skf.split(X,y)):\n",
    "        search=gs_NB.fit(X.loc[train,:],y[train])\n",
    "        #gs_NB.best_params_\n",
    "        acc_values_stratified[i]=search.score(X.loc[test,:],y[test])\n",
    "        acc_values_tune[itr]=np.mean(acc_values_stratified)\n",
    "np.mean(acc_values_tune)"
   ]
  },
  {
   "cell_type": "code",
   "execution_count": 8,
   "id": "54757d8d",
   "metadata": {},
   "outputs": [
    {
     "name": "stdout",
     "output_type": "stream",
     "text": [
      "0\n",
      "1\n",
      "2\n",
      "3\n",
      "4\n"
     ]
    },
    {
     "data": {
      "text/plain": [
       "0.643"
      ]
     },
     "execution_count": 8,
     "metadata": {},
     "output_type": "execute_result"
    }
   ],
   "source": [
    "from sklearn.linear_model import LogisticRegression\n",
    "y=df['label']\n",
    "X=df.drop(columns=['label'])\n",
    "skf = StratifiedKFold(n_splits=5)\n",
    "acc_values_Stratified = np.zeros(5)\n",
    "\n",
    "for i, (train, test) in enumerate(skf.split(X, y)):\n",
    "    print(i)\n",
    "    clf = LogisticRegression().fit(X.loc[train,:], y[train])\n",
    "    acc_values_Stratified[i] = clf.score(X.loc[test,:], y[test])\n",
    "np.mean(acc_values_Stratified)"
   ]
  },
  {
   "cell_type": "code",
   "execution_count": 9,
   "id": "d605847b",
   "metadata": {},
   "outputs": [
    {
     "name": "stdout",
     "output_type": "stream",
     "text": [
      "0\n",
      "0.645\n",
      "1\n",
      "0.644\n",
      "2\n",
      "0.641\n",
      "3\n",
      "0.628\n",
      "4\n",
      "0.644\n",
      "5\n",
      "0.646\n",
      "6\n",
      "0.64\n",
      "7\n",
      "0.639\n",
      "8\n",
      "0.641\n",
      "9\n",
      "0.6330000000000001\n",
      "0.6401000000000001\n"
     ]
    }
   ],
   "source": [
    "y=df['label']\n",
    "X=df.drop(columns=['label'])\n",
    "distributions = dict(C=uniform(loc=0, scale=4))\n",
    "model=LogisticRegression()\n",
    "acc_values_stratified=np.zeros(5)\n",
    "acc_values_tune=np.zeros(10)\n",
    "for itr in range(0,10):\n",
    "    print(itr)\n",
    "    skf=StratifiedKFold(n_splits=5,shuffle=True,random_state=itr)\n",
    "    for i,(train,test) in enumerate(skf.split(X,y)):\n",
    "        clf=RandomizedSearchCV(model,distributions,cv=5,random_state=0)\n",
    "        search=clf.fit(X.loc[train,:],y[train])\n",
    "        acc_values_stratified[i]=search.score(X.loc[test,:],y[test])\n",
    "    acc_values_tune[itr]=np.mean(acc_values_stratified)\n",
    "    print(acc_values_tune[itr])\n",
    "print(np.mean(acc_values_tune))"
   ]
  },
  {
   "cell_type": "code",
   "execution_count": 35,
   "id": "e58a4e82",
   "metadata": {},
   "outputs": [
    {
     "name": "stdout",
     "output_type": "stream",
     "text": [
      "Train score:0.721\n",
      "Test score:0.708\n",
      "              precision    recall  f1-score   support\n",
      "\n",
      "       not 1       0.70      0.72      0.71       123\n",
      "           1       0.72      0.69      0.71       127\n",
      "\n",
      "    accuracy                           0.71       250\n",
      "   macro avg       0.71      0.71      0.71       250\n",
      "weighted avg       0.71      0.71      0.71       250\n",
      "\n"
     ]
    }
   ],
   "source": [
    "from sklearn.ensemble import RandomForestClassifier\n",
    "y=df['label']\n",
    "X=df.drop(columns=['label'])  \n",
    "X_train, X_test, y_train, y_test = train_test_split(X,y,stratify=y, random_state=32841337)\n",
    "forest = RandomForestClassifier(n_estimators=100, random_state=0)\n",
    "forest.fit(X_train, y_train)\n",
    "y_pred=forest.predict(X_test)\n",
    "print('Train score:{:.3f}'.format(forest.score(X_train,y_train)))\n",
    "print('Test score:{:.3f}'.format(forest.score(X_test,y_test)))\n",
    "print(classification_report(y_test,y_pred,target_names=['not 1','1']))"
   ]
  },
  {
   "cell_type": "code",
   "execution_count": 43,
   "id": "05240d0b",
   "metadata": {},
   "outputs": [
    {
     "name": "stdout",
     "output_type": "stream",
     "text": [
      "Train score:0.691\n",
      "Test score:0.760\n",
      "              precision    recall  f1-score   support\n",
      "\n",
      "       not 1       0.78      0.72      0.75       123\n",
      "           1       0.74      0.80      0.77       127\n",
      "\n",
      "    accuracy                           0.76       250\n",
      "   macro avg       0.76      0.76      0.76       250\n",
      "weighted avg       0.76      0.76      0.76       250\n",
      "\n"
     ]
    }
   ],
   "source": [
    "from sklearn.neighbors import KNeighborsClassifier\n",
    "y=df['label']\n",
    "X=df.drop(columns=['label'])  \n",
    "X_train, X_test, y_train, y_test = train_test_split(X,y,stratify=y, random_state=32841337)\n",
    "knn = KNeighborsClassifier(n_neighbors = 5)\n",
    "knn.fit(X_train, y_train)\n",
    "y_pred=knn.predict(X_test)\n",
    "print('Train score:{:.3f}'.format(knn.score(X_train,y_train)))\n",
    "print('Test score:{:.3f}'.format(knn.score(X_test,y_test)))\n",
    "print(classification_report(y_test,y_pred,target_names=['not 1','1']))"
   ]
  },
  {
   "cell_type": "code",
   "execution_count": 50,
   "id": "fa0ddc0e",
   "metadata": {},
   "outputs": [
    {
     "name": "stdout",
     "output_type": "stream",
     "text": [
      "Train score:0.721\n",
      "Test score:0.704\n",
      "Test score:0.644\n",
      "              precision    recall  f1-score   support\n",
      "\n",
      "       not 1       0.69      0.72      0.71       123\n",
      "           1       0.72      0.69      0.70       127\n",
      "\n",
      "    accuracy                           0.70       250\n",
      "   macro avg       0.70      0.70      0.70       250\n",
      "weighted avg       0.70      0.70      0.70       250\n",
      "\n"
     ]
    }
   ],
   "source": [
    "from sklearn import tree\n",
    "from sklearn.tree import DecisionTreeClassifier\n",
    "y=df['label']\n",
    "X=df.drop(columns=['label'])  \n",
    "X_train, X_test, y_train, y_test = train_test_split(X,y,stratify=y, random_state=32841337)\n",
    "dtree = DecisionTreeClassifier()\n",
    "dtree.fit(X_train, y_train)\n",
    "y_pred=dtree.predict(X_test)\n",
    "print('Train score:{:.3f}'.format(dtree.score(X_train,y_train)))\n",
    "print('Test score:{:.3f}'.format(dtree.score(X_test,y_test)))\n",
    "print('Test score:{:.3f}'.format(model.score(X_test,y_test)))\n",
    "print(classification_report(y_test,y_pred,target_names=['not 1','1']))"
   ]
  },
  {
   "cell_type": "code",
   "execution_count": 49,
   "id": "13b0d097",
   "metadata": {},
   "outputs": [
    {
     "name": "stdout",
     "output_type": "stream",
     "text": [
      "Train score:0.644\n",
      "Test score:0.644\n",
      "              precision    recall  f1-score   support\n",
      "\n",
      "       not 1       0.66      0.58      0.61       123\n",
      "           1       0.63      0.71      0.67       127\n",
      "\n",
      "    accuracy                           0.64       250\n",
      "   macro avg       0.65      0.64      0.64       250\n",
      "weighted avg       0.65      0.64      0.64       250\n",
      "\n"
     ]
    }
   ],
   "source": [
    "\n",
    "y=df['label']\n",
    "X=df.drop(columns=['label'])  \n",
    "X_train, X_test, y_train, y_test = train_test_split(X,y,stratify=y, random_state=32841337)\n",
    "model=SVC(kernel='linear')\n",
    "model.fit(X_train, y_train)\n",
    "y_pred=model.predict(X_test)\n",
    "print('Train score:{:.3f}'.format(model.score(X_train,y_train)))\n",
    "print('Test score:{:.3f}'.format(model.score(X_test,y_test)))\n",
    "print(classification_report(y_test,y_pred,target_names=['not 1','1']))"
   ]
  },
  {
   "cell_type": "code",
   "execution_count": 48,
   "id": "4b6f54ad",
   "metadata": {},
   "outputs": [
    {
     "name": "stdout",
     "output_type": "stream",
     "text": [
      "Train score:0.644\n",
      "Test score:0.652\n",
      "              precision    recall  f1-score   support\n",
      "\n",
      "       not 1       0.63      0.72      0.67       123\n",
      "           1       0.68      0.59      0.63       127\n",
      "\n",
      "    accuracy                           0.65       250\n",
      "   macro avg       0.66      0.65      0.65       250\n",
      "weighted avg       0.66      0.65      0.65       250\n",
      "\n",
      "F1:0.63\n"
     ]
    }
   ],
   "source": [
    "from sklearn.metrics import accuracy_score,precision_score,recall_score,f1_score\n",
    "y=df['label']\n",
    "X=df.drop(columns=['label'])  \n",
    "X_train, X_test, y_train, y_test = train_test_split(X,y,stratify=y, random_state=32841337)\n",
    "model=LogisticRegression()\n",
    "model.fit(X_train, y_train)\n",
    "y_pred=model.predict(X_test)\n",
    "print('Train score:{:.3f}'.format(model.score(X_train,y_train)))\n",
    "print('Test score:{:.3f}'.format(model.score(X_test,y_test)))\n",
    "print(classification_report(y_test,y_pred,target_names=['not 1','1']))\n",
    "print('F1:{:.2f}'.format(f1_score(y_test,y_pred)))"
   ]
  }
 ],
 "metadata": {
  "kernelspec": {
   "display_name": "Python 3 (ipykernel)",
   "language": "python",
   "name": "python3"
  },
  "language_info": {
   "codemirror_mode": {
    "name": "ipython",
    "version": 3
   },
   "file_extension": ".py",
   "mimetype": "text/x-python",
   "name": "python",
   "nbconvert_exporter": "python",
   "pygments_lexer": "ipython3",
   "version": "3.9.7"
  }
 },
 "nbformat": 4,
 "nbformat_minor": 5
}
